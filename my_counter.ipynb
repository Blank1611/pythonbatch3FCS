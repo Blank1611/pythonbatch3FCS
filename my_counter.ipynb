{
 "cells": [
  {
   "cell_type": "code",
   "execution_count": 1,
   "metadata": {},
   "outputs": [],
   "source": [
    "import random "
   ]
  },
  {
   "cell_type": "code",
   "execution_count": 2,
   "metadata": {},
   "outputs": [],
   "source": [
    "my_list = [1,2,3,4,5,6,7,8,9,10,11,12,13,14,15]"
   ]
  },
  {
   "cell_type": "code",
   "execution_count": 3,
   "metadata": {},
   "outputs": [
    {
     "name": "stdout",
     "output_type": "stream",
     "text": [
      "Next Person is - \n",
      "13\n",
      "Next Person is - \n",
      "1\n",
      "Next Person is - \n",
      "10\n",
      "Next Person is - \n",
      "15\n",
      "Next Person is - \n",
      "6\n",
      "Next Person is - \n",
      "12\n",
      "Next Person is - \n",
      "2\n",
      "Next Person is - \n",
      "7\n",
      "Next Person is - \n",
      "4\n",
      "Next Person is - \n",
      "9\n",
      "Next Person is - \n",
      "14\n",
      "Next Person is - \n",
      "5\n",
      "Next Person is - \n",
      "8\n",
      "Next Person is - \n",
      "3\n",
      "Next Person is - \n",
      "11\n"
     ]
    }
   ],
   "source": [
    "import random \n",
    "my_list = [1,2,3,4,5,6,7,8,9,10,11,12,13,14,15]\n",
    "\n",
    "\n",
    "while my_list:\n",
    "    num = random.choice(my_list)\n",
    "    my_list.remove(num)\n",
    "    input(\"Next Person is - \")\n",
    "    print(num)\n",
    "    \n",
    "    \n",
    "    \n",
    "    \n",
    "    \n",
    "    \n",
    "    \n",
    "    \n",
    "    \n",
    "    \n",
    "    \n",
    "    \n",
    "    \n",
    "    "
   ]
  },
  {
   "cell_type": "code",
   "execution_count": null,
   "metadata": {},
   "outputs": [],
   "source": []
  }
 ],
 "metadata": {
  "kernelspec": {
   "display_name": "Python 3",
   "language": "python",
   "name": "python3"
  },
  "language_info": {
   "codemirror_mode": {
    "name": "ipython",
    "version": 3
   },
   "file_extension": ".py",
   "mimetype": "text/x-python",
   "name": "python",
   "nbconvert_exporter": "python",
   "pygments_lexer": "ipython3",
   "version": "3.7.1"
  }
 },
 "nbformat": 4,
 "nbformat_minor": 2
}
